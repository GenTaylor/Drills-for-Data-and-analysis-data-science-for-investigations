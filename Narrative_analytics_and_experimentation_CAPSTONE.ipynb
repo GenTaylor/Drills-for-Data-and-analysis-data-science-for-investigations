{
 "cells": [
  {
   "cell_type": "markdown",
   "metadata": {},
   "source": [
    "<h1>Is the preparation course effective?</h1>\n",
    "\n",
    "The data in this dataset shows the results of test scores of students in different subjects. \n",
    "\n",
    "What I would like to test is if the test preparation course affected their results. Does the test preparation course result in higher performance? If so, would a test preparation course help those did not take test preparation courses and scored below average? \n",
    "\n",
    "In this experiment, I will be comparing those who completed the test preparation course against those who had no test preparation course. \n",
    "\n",
    "Initially, I want to compare the test score results of each subject to test preparation course, and from there, I would like to dig deeper in to the results to see if any other factors were significant in the test scores. \n",
    "\n",
    "Afterwards, I would like to run further tests from the results to see how we can improve test scores. \n"
   ]
  },
  {
   "cell_type": "code",
   "execution_count": 140,
   "metadata": {},
   "outputs": [],
   "source": [
    "#import libraries\n",
    "\n",
    "%matplotlib inline\n",
    "import pandas as pd\n",
    "import numpy as np\n",
    "import seaborn as sns\n",
    "from matplotlib import pyplot as plt\n",
    "from scipy import stats"
   ]
  },
  {
   "cell_type": "code",
   "execution_count": 141,
   "metadata": {},
   "outputs": [],
   "source": [
    "#import dataframe\n",
    "\n",
    "df = pd.read_csv('/Users/genta/Desktop/Thinkful/students-performance-in-exams/StudentsPerformance.csv')"
   ]
  },
  {
   "cell_type": "code",
   "execution_count": 142,
   "metadata": {},
   "outputs": [
    {
     "data": {
      "text/html": [
       "<div>\n",
       "<style scoped>\n",
       "    .dataframe tbody tr th:only-of-type {\n",
       "        vertical-align: middle;\n",
       "    }\n",
       "\n",
       "    .dataframe tbody tr th {\n",
       "        vertical-align: top;\n",
       "    }\n",
       "\n",
       "    .dataframe thead th {\n",
       "        text-align: right;\n",
       "    }\n",
       "</style>\n",
       "<table border=\"1\" class=\"dataframe\">\n",
       "  <thead>\n",
       "    <tr style=\"text-align: right;\">\n",
       "      <th></th>\n",
       "      <th>gender</th>\n",
       "      <th>race/ethnicity</th>\n",
       "      <th>parental level of education</th>\n",
       "      <th>lunch</th>\n",
       "      <th>test preparation course</th>\n",
       "      <th>math score</th>\n",
       "      <th>reading score</th>\n",
       "      <th>writing score</th>\n",
       "    </tr>\n",
       "  </thead>\n",
       "  <tbody>\n",
       "    <tr>\n",
       "      <th>0</th>\n",
       "      <td>female</td>\n",
       "      <td>group B</td>\n",
       "      <td>bachelor's degree</td>\n",
       "      <td>standard</td>\n",
       "      <td>none</td>\n",
       "      <td>72</td>\n",
       "      <td>72</td>\n",
       "      <td>74</td>\n",
       "    </tr>\n",
       "    <tr>\n",
       "      <th>1</th>\n",
       "      <td>female</td>\n",
       "      <td>group C</td>\n",
       "      <td>some college</td>\n",
       "      <td>standard</td>\n",
       "      <td>completed</td>\n",
       "      <td>69</td>\n",
       "      <td>90</td>\n",
       "      <td>88</td>\n",
       "    </tr>\n",
       "    <tr>\n",
       "      <th>2</th>\n",
       "      <td>female</td>\n",
       "      <td>group B</td>\n",
       "      <td>master's degree</td>\n",
       "      <td>standard</td>\n",
       "      <td>none</td>\n",
       "      <td>90</td>\n",
       "      <td>95</td>\n",
       "      <td>93</td>\n",
       "    </tr>\n",
       "    <tr>\n",
       "      <th>3</th>\n",
       "      <td>male</td>\n",
       "      <td>group A</td>\n",
       "      <td>associate's degree</td>\n",
       "      <td>free/reduced</td>\n",
       "      <td>none</td>\n",
       "      <td>47</td>\n",
       "      <td>57</td>\n",
       "      <td>44</td>\n",
       "    </tr>\n",
       "    <tr>\n",
       "      <th>4</th>\n",
       "      <td>male</td>\n",
       "      <td>group C</td>\n",
       "      <td>some college</td>\n",
       "      <td>standard</td>\n",
       "      <td>none</td>\n",
       "      <td>76</td>\n",
       "      <td>78</td>\n",
       "      <td>75</td>\n",
       "    </tr>\n",
       "  </tbody>\n",
       "</table>\n",
       "</div>"
      ],
      "text/plain": [
       "   gender race/ethnicity parental level of education         lunch  \\\n",
       "0  female        group B           bachelor's degree      standard   \n",
       "1  female        group C                some college      standard   \n",
       "2  female        group B             master's degree      standard   \n",
       "3    male        group A          associate's degree  free/reduced   \n",
       "4    male        group C                some college      standard   \n",
       "\n",
       "  test preparation course  math score  reading score  writing score  \n",
       "0                    none          72             72             74  \n",
       "1               completed          69             90             88  \n",
       "2                    none          90             95             93  \n",
       "3                    none          47             57             44  \n",
       "4                    none          76             78             75  "
      ]
     },
     "execution_count": 142,
     "metadata": {},
     "output_type": "execute_result"
    }
   ],
   "source": [
    "df.head()"
   ]
  },
  {
   "cell_type": "markdown",
   "metadata": {},
   "source": [
    "I want to look at some general information about the data before I decide how to move forward with how I am going to do comparisons and analysis. "
   ]
  },
  {
   "cell_type": "code",
   "execution_count": 143,
   "metadata": {},
   "outputs": [
    {
     "data": {
      "text/html": [
       "<div>\n",
       "<style scoped>\n",
       "    .dataframe tbody tr th:only-of-type {\n",
       "        vertical-align: middle;\n",
       "    }\n",
       "\n",
       "    .dataframe tbody tr th {\n",
       "        vertical-align: top;\n",
       "    }\n",
       "\n",
       "    .dataframe thead th {\n",
       "        text-align: right;\n",
       "    }\n",
       "</style>\n",
       "<table border=\"1\" class=\"dataframe\">\n",
       "  <thead>\n",
       "    <tr style=\"text-align: right;\">\n",
       "      <th></th>\n",
       "      <th>math score</th>\n",
       "      <th>reading score</th>\n",
       "      <th>writing score</th>\n",
       "    </tr>\n",
       "  </thead>\n",
       "  <tbody>\n",
       "    <tr>\n",
       "      <th>count</th>\n",
       "      <td>1000.00000</td>\n",
       "      <td>1000.000000</td>\n",
       "      <td>1000.000000</td>\n",
       "    </tr>\n",
       "    <tr>\n",
       "      <th>mean</th>\n",
       "      <td>66.08900</td>\n",
       "      <td>69.169000</td>\n",
       "      <td>68.054000</td>\n",
       "    </tr>\n",
       "    <tr>\n",
       "      <th>std</th>\n",
       "      <td>15.16308</td>\n",
       "      <td>14.600192</td>\n",
       "      <td>15.195657</td>\n",
       "    </tr>\n",
       "    <tr>\n",
       "      <th>min</th>\n",
       "      <td>0.00000</td>\n",
       "      <td>17.000000</td>\n",
       "      <td>10.000000</td>\n",
       "    </tr>\n",
       "    <tr>\n",
       "      <th>25%</th>\n",
       "      <td>57.00000</td>\n",
       "      <td>59.000000</td>\n",
       "      <td>57.750000</td>\n",
       "    </tr>\n",
       "    <tr>\n",
       "      <th>50%</th>\n",
       "      <td>66.00000</td>\n",
       "      <td>70.000000</td>\n",
       "      <td>69.000000</td>\n",
       "    </tr>\n",
       "    <tr>\n",
       "      <th>75%</th>\n",
       "      <td>77.00000</td>\n",
       "      <td>79.000000</td>\n",
       "      <td>79.000000</td>\n",
       "    </tr>\n",
       "    <tr>\n",
       "      <th>max</th>\n",
       "      <td>100.00000</td>\n",
       "      <td>100.000000</td>\n",
       "      <td>100.000000</td>\n",
       "    </tr>\n",
       "  </tbody>\n",
       "</table>\n",
       "</div>"
      ],
      "text/plain": [
       "       math score  reading score  writing score\n",
       "count  1000.00000    1000.000000    1000.000000\n",
       "mean     66.08900      69.169000      68.054000\n",
       "std      15.16308      14.600192      15.195657\n",
       "min       0.00000      17.000000      10.000000\n",
       "25%      57.00000      59.000000      57.750000\n",
       "50%      66.00000      70.000000      69.000000\n",
       "75%      77.00000      79.000000      79.000000\n",
       "max     100.00000     100.000000     100.000000"
      ]
     },
     "execution_count": 143,
     "metadata": {},
     "output_type": "execute_result"
    }
   ],
   "source": [
    "df.describe()"
   ]
  },
  {
   "cell_type": "markdown",
   "metadata": {},
   "source": [
    "From doing a describe command, I now have the mean, max, and min results for each test score area. I will use this information to decide what is above or below average\n",
    "\n",
    "I have decided to use the means of each to set the above/below marks."
   ]
  },
  {
   "cell_type": "code",
   "execution_count": 144,
   "metadata": {},
   "outputs": [],
   "source": [
    "#Setting up the averages to use for each subject. \n",
    "\n",
    "#Math Avg\n",
    "mabovebelow = 66\n",
    "\n",
    "#Reading Avg\n",
    "rabovebelow = 69\n",
    "\n",
    "#Writing Avg\n",
    "wabovebelow = 68"
   ]
  },
  {
   "cell_type": "markdown",
   "metadata": {},
   "source": [
    "Now that I have my average numbers, I will use that to see who were above or below the average among test score preparation. However, before I do that, I need to setup some dataframes to analyze. I will set up a above/below dataframe for math, reading, and writing.\n",
    "\n",
    "Once I have those dataframes I want to look at the results of each among test score preparation."
   ]
  },
  {
   "cell_type": "code",
   "execution_count": 145,
   "metadata": {},
   "outputs": [
    {
     "data": {
      "image/png": "[encoded data removed]",
      "text/plain": [
       "<Figure size 432x288 with 1 Axes>"
      ]
     },
     "metadata": {
      "needs_background": "light"
     },
     "output_type": "display_data"
    }
   ],
   "source": [
    "#Math Score Dataframe\n",
    "df['Math_Test_Results'] = np.where(df['math score']<mabovebelow, 'Below', 'Above')\n",
    "\n",
    "#Math Test Prep\n",
    "p = sns.countplot(x='test preparation course', data = df, hue='Math_Test_Results', palette='dark')\n",
    "_ = plt.setp(p.get_xticklabels(), rotation=90) "
   ]
  },
  {
   "cell_type": "code",
   "execution_count": 146,
   "metadata": {},
   "outputs": [
    {
     "data": {
      "image/png": "[encoded data removed]",
      "text/plain": [
       "<Figure size 432x288 with 1 Axes>"
      ]
     },
     "metadata": {
      "needs_background": "light"
     },
     "output_type": "display_data"
    }
   ],
   "source": [
    "#Reading Score Dataframe\n",
    "df['Reading_Test_Results'] = np.where(df['reading score']<rabovebelow, 'Below', 'Above')\n",
    "\n",
    "#Reading Test Prep\n",
    "p = sns.countplot(x='test preparation course', data = df, hue='Reading_Test_Results', palette='dark')\n",
    "_ = plt.setp(p.get_xticklabels(), rotation=90) \n"
   ]
  },
  {
   "cell_type": "code",
   "execution_count": 147,
   "metadata": {},
   "outputs": [
    {
     "data": {
      "image/png": "[encoded data removed]",
      "text/plain": [
       "<Figure size 432x288 with 1 Axes>"
      ]
     },
     "metadata": {
      "needs_background": "light"
     },
     "output_type": "display_data"
    }
   ],
   "source": [
    "#Writing Score Dataframe\n",
    "df['Writing_Test_Results'] = np.where(df['writing score']<wabovebelow, 'Below', 'Above')\n",
    "\n",
    "#Writing Test Prep\n",
    "p = sns.countplot(x='test preparation course', data = df, hue='Writing_Test_Results', palette='dark')\n",
    "_ = plt.setp(p.get_xticklabels(), rotation=90) "
   ]
  },
  {
   "cell_type": "markdown",
   "metadata": {},
   "source": [
    "Looking at the results of each, in general, I saw that when a student completed the test preparation courses, they were more likely to score above average, and when they did not take the test preparation courses, they were more likely to score below the average."
   ]
  },
  {
   "cell_type": "markdown",
   "metadata": {},
   "source": [
    "From these results, I would like to perform an A/B test to see if the test preparation course can improve test results. \n",
    "\n",
    "I would like to test the group of students who did not take test preparation courses. In that group, I would like to create two test groups and compare the results and using a t-test to test the significance of those results."
   ]
  },
  {
   "cell_type": "markdown",
   "metadata": {},
   "source": [
    "<h4>Goal:</h4> Improve test scores in each subject for those who did not take preparation courses. \n",
    "\n",
    "<h4>Hypotheses:</h4>\n",
    "I am hoping and hypothesizing that test preparation courses will improve test scores, however, my official hypotheses are not that. What I am testing is the affect on test scores in hope of improving them.\n",
    "\n",
    "H0: Test preparation courses will not affect test scores.\n",
    "\n",
    "H1: Test preparation courses will affect test scores.\n",
    "\n",
    "\n",
    "\n",
    "<h4>Test Groups</h4>\n",
    "In these test groups the only change will be in preparation. I do not want to alter the state of any other factor, also I want to do the test on the next available round of math, reading, and writing tests, or as soon as possible. The reason for this is, I do not want the other factors to change or change much among the groups. \n",
    "\n",
    "Control group: Original group of people who did not take the test preparation course\n",
    "\n",
    "Variant group: Same group, but give them test preparation help. WIth this, we would offer the test to those who did not take the courses before. Of those that decide to take the courses, I will compare their results to previous results. \n",
    "\n",
    "\n",
    "<h4>T-test standards</h4>\n",
    "I will set my p-value or judgment at 0.5. \n",
    "\n",
    "After the test is run, and if I see an increase in the above average test scores, I will perform a t-test to further analyze these results. If, when comparing the results, if the results are above 0.5 then test prep does not test results and I accept H0. If the results are below 0.5 then test prep has an affect on test results and I accept H1. "
   ]
  },
  {
   "cell_type": "markdown",
   "metadata": {},
   "source": [
    "I know that in doing these tests, there is a possibility that the test preparation will have a negative effect on test scores. If this does happen, t-tests will still be performed to see if it is signficant. "
   ]
  },
  {
   "cell_type": "markdown",
   "metadata": {},
   "source": [
    "I also know that I need to make sure that the tests are of similar difficulty. Even though it may be new material, the difficulty level needs to be the same for the group that is being tested. I also need to make sure that the same type of test is being done. For example, if a multiple-choice test was done before, it needs to be a multiple-choice test again. Also, the test for each subject needs to be of the same length and time allotted. "
   ]
  }
 ],
 "metadata": {
  "kernelspec": {
   "display_name": "Python 3",
   "language": "python",
   "name": "python3"
  },
  "language_info": {
   "codemirror_mode": {
    "name": "ipython",
    "version": 3
   },
   "file_extension": ".py",
   "mimetype": "text/x-python",
   "name": "python",
   "nbconvert_exporter": "python",
   "pygments_lexer": "ipython3",
   "version": "3.7.1"
  }
 },
 "nbformat": 4,
 "nbformat_minor": 2
}
